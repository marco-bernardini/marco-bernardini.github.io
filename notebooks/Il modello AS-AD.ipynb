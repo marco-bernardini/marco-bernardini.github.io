{
 "cells": [
  {
   "cell_type": "markdown",
   "id": "66e7f2e2",
   "metadata": {},
   "source": [
    "# Il modello AS-AD"
   ]
  },
  {
   "cell_type": "code",
   "execution_count": 1,
   "id": "222ce57b",
   "metadata": {},
   "outputs": [],
   "source": [
    "from config import *\n",
    "%matplotlib inline"
   ]
  },
  {
   "cell_type": "markdown",
   "id": "b1a36d77",
   "metadata": {},
   "source": [
    "## La curva AS\n",
    "\n",
    "La determinazione dei salari viene descritta dalla seguente equazione:\n",
    "$$\n",
    "    W = \\mathbb{E}\\left(P\\right) \\mathcal{F}\\left(u,z\\right)\n",
    "$$\n",
    "dove il salario nominale $W$ dipende dal livello atteso dei prezzi $\\mathbb{E}\\left(P\\right)$, dal tasso di disoccupazione $u$ e dalla variabile $z$, che cattura l'effetto di tutti i fattori istituzionali in grado di influenzare la contrattazione dei salari (si pensi alla presenza di un salario minimo, alla forza contrattuale dei sindacati, ecc..).  \n",
    "In altri termini, si può pensare che, in tempi favorevoli, i lavoratori riescano ad ottenere un markup elevato su una quota costante di divisione del reddito in tempi \"normali\" $S_N$, tale per cui si può determinare il costo nominale del lavoro per unità di prodotto come:\n",
    "$$\n",
    "    \\frac{WN}{Y} = \\mathbb{E}\\left(P\\right)\\left(1+\\gamma\\right)S_N\n",
    "$$\n",
    "dove con $\\gamma$ si è indicato il markup. Chiaramente, in tempi particolarmente svantaggiosi si potrebbe avere $\\gamma<0$.  \n",
    "A loro volta, i prezzi per unità di prodotto vengono così determinati:\n",
    "$$\n",
    "    P = \\left(1+\\mu\\right)\\frac{WN}{Y}\n",
    "$$\n",
    "ovvero il livello dei prezzi $P$  fissato dalle imprese è uguale al costo unitario nominale $\\frac{WN}{Y}$, moltiplicato per 1 più il markup $\\mu$.  \n",
    "Sostituendo, si ottiene:\n",
    "$$\n",
    "    P = \\mathbb{E}\\left(P\\right)\\left(1+\\mu\\right)\\left(1+\\gamma\\right)S_N\n",
    "$$\n",
    "da cui emerge il ruolo centrale che hanno le aspettative circa i prezzi futuri nella determinazione dei prezzi effettivi. Analizzando l'equazione, anche senza ricorrere ai calcoli si può notare come il tasso di variazione dei prezzi dipende dalla variazione congiunta dei markup e dal tasso di inflazione, ovvero:\n",
    "$$\n",
    "    \\pi = \\mathbb{E}\\left(\\pi\\right) + \\Delta markup\n",
    "$$\n",
    "Conviene a questo punto soffermarsi sul comportamento di $\\Delta markup$. Ci si può aspettare infatti che, normalmente, $\\mu$ aumenti quando la domanda è sostenuta (sebbene l'aumento possa essere stemperato dall'ingresso di nuove imprese nel mercato) e che $\\gamma$ aumenti quando la disoccupazione è ridotta (e, secondo la legge di Okun, il prodotto è sopra al prodotto naturale).  \n",
    "Alla luce di queste considerazioni, si può immaginare l'esistenza di una relazione tra le variazioni dei markup e l'output gap, ovvero la differenza tra il PIL corrente e il PIL potenziale, calcolato come trend di lungo periodo. In simboli:\n",
    "$$\n",
    "    \\pi = \\mathbb{E}\\left(\\pi\\right) + ay\n",
    "$$\n",
    "Dove con $y$ si è indicato l'output gap, e $a$ cattura la relazione fra $\\Delta markup$ e $y$. In altri termini, sfruttando la relazione inversa tra $u$ e $y$ calcolata da Okun, si ha che:\n",
    "$$\n",
    "    \\pi = \\mathbb{E}\\left(\\pi\\right) -bu\n",
    "$$\n",
    "dove con $u$ si vogliono indicare variazioni nel tasso di disoccupazione, piuttosto che livelli. Prima di concludere, conviene riflettere sulle equazioni scritte sopra: possibile che non ci siano altri fenomeni, pure in un modello semplificato, in grado di avere una forte influenza sul livello dei prezzi? Per catturare questi fenomeni \"anomali\", gli economisti introducono spesso li concetto di shock esogeno, ovvero un evento improvviso ed esterno al modello, in grado di impattare sulle variabili. Normalmente gli shock vengono indicati con $\\varepsilon$. Riscrivendo:\n",
    "$$\n",
    "    (1) \\pi = \\mathbb{E}\\left(\\pi\\right) + ay + \\varepsilon \\\\\n",
    "    (2) \\pi = \\mathbb{E}\\left(\\pi\\right) -bu + \\varepsilon\n",
    "$$\n",
    "laddove il segno dello shock è arbitrario, e in questo caso uno shock sfavorevole, o \"negativo\", ha segno positivo.  \n",
    "Può essere interessante ora visualizzare la curva AS (1) e la Curva di Phillips aumentata per l'inflazione e gli shock di offerta (2)."
   ]
  },
  {
   "cell_type": "code",
   "execution_count": 2,
   "id": "9f8693cf",
   "metadata": {},
   "outputs": [
    {
     "data": {
      "application/vnd.jupyter.widget-view+json": {
       "model_id": "cecf2a0b1f244d269da54a91a5a53b4d",
       "version_major": 2,
       "version_minor": 0
      },
      "text/plain": [
       "interactive(children=(FloatSlider(value=0.0, description='ε', max=0.5, min=-0.5, step=0.02), FloatSlider(value…"
      ]
     },
     "metadata": {},
     "output_type": "display_data"
    },
    {
     "data": {
      "text/plain": [
       "<function __main__.plot_ad_as(ε=0, y=0, u=0, EP1=0)>"
      ]
     },
     "execution_count": 2,
     "metadata": {},
     "output_type": "execute_result"
    }
   ],
   "source": [
    "def plot_ad_as(ε=0, y=0, u=0, EP1=0):\n",
    "    \n",
    "    x = np.linspace(.1, .9, 100)\n",
    "    xa = .5\n",
    "    xa_star_phillips = xa - y + u\n",
    "    xa_star_AS = xa + y - u\n",
    "    ya_phillips = .87 - .67 * xa\n",
    "    ya_AS = .2 + .67 * xa\n",
    "    \n",
    "    phillips = .87 - .67 * x + ε + EP1\n",
    "    phillips_ = .87 - .67 * x\n",
    "\n",
    "    AS = .2 + .67 * x + ε + EP1\n",
    "    AS_ = .2 + .67 * x\n",
    "\n",
    "    fig, axs = plt.subplots(1, 2, figsize=(8, 4))\n",
    "    \n",
    "    # --- Phillips Curve ---\n",
    "    axs[0].plot([xa, xa], [0, ya_phillips], color='silver', linestyle=\":\")\n",
    "    axs[0].plot([0, xa], [ya_phillips, ya_phillips], color='silver', linestyle=\":\")\n",
    "\n",
    "    axs[0].plot(x, phillips_, color='silver', zorder=1)\n",
    "    axs[0].plot(x, phillips, zorder=2)\n",
    "\n",
    "    axs[0].scatter(xa, ya_phillips, color='#525252', zorder=3)\n",
    "    axs[0].scatter(xa_star_phillips, .87 - .67 * xa_star_phillips + ε + EP1, color=bmh_colors[1], zorder=4)\n",
    "    \n",
    "    axs[0].annotate('P=E(P)', xy=(0, ya_phillips), xytext=(2, -10), textcoords='offset points', color='#525252')\n",
    "    axs[0].annotate('U=Un', xy=(xa, 0), xytext=(2, 2), textcoords='offset points', color='#525252')\n",
    "\n",
    "    axs[0].set_xlim(0, 1)\n",
    "    axs[0].set_ylim(0, 1)\n",
    "    axs[0].set_xticks([])\n",
    "    axs[0].set_yticks([])\n",
    "    axs[0].set_xlabel(\"Disoccupazione\")\n",
    "    axs[0].set_ylabel(\"Inflazione\")\n",
    "    axs[0].set_title(\"Curva di Phillips\", loc='left')\n",
    "    \n",
    "    # --- AS Curve ---\n",
    "    axs[1].plot([xa, xa], [0, ya_AS], color='silver', linestyle=\":\")\n",
    "    axs[1].plot([0, xa], [ya_AS, ya_AS], color='silver', linestyle=\":\")\n",
    "\n",
    "    axs[1].plot(x, AS_, color='silver', zorder=1)\n",
    "    axs[1].plot(x, AS, zorder=2)\n",
    "\n",
    "    axs[1].scatter(xa, ya_AS, color='#525252', zorder=3)\n",
    "    axs[1].scatter(xa_star_AS, .2 + .67 * xa_star_AS + ε + EP1, color=bmh_colors[1], zorder=4)\n",
    "    \n",
    "    axs[1].annotate('P=E(P)', xy=(0, ya_AS), xytext=(2, -10), textcoords='offset points', color='#525252')\n",
    "    axs[1].annotate('Y=Yn', xy=(xa, 0), xytext=(2, 2), textcoords='offset points', color='#525252')\n",
    "\n",
    "    axs[1].set_xlim(0, 1)\n",
    "    axs[1].set_ylim(0, 1)\n",
    "    axs[1].set_xticks([])\n",
    "    axs[1].set_yticks([])\n",
    "    axs[1].set_xlabel(\"Prodotto\")\n",
    "    axs[1].set_ylabel(\"Inflazione\")\n",
    "    axs[1].set_title(\"Curva AS\", loc='left')\n",
    "\n",
    "    plt.show()\n",
    "    return None\n",
    "\n",
    "interact(plot_ad_as, ε=(-.5, .5, .02), y=(-.5, .5, .02), u=(-.5, .5, .02), EP1=(-.5, .5, .02))"
   ]
  }
 ],
 "metadata": {
  "kernelspec": {
   "display_name": "Python 3 (ipykernel)",
   "language": "python",
   "name": "python3"
  },
  "language_info": {
   "codemirror_mode": {
    "name": "ipython",
    "version": 3
   },
   "file_extension": ".py",
   "mimetype": "text/x-python",
   "name": "python",
   "nbconvert_exporter": "python",
   "pygments_lexer": "ipython3",
   "version": "3.11.5"
  }
 },
 "nbformat": 4,
 "nbformat_minor": 5
}
